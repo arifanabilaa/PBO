{
  "nbformat": 4,
  "nbformat_minor": 0,
  "metadata": {
    "colab": {
      "provenance": [],
      "authorship_tag": "ABX9TyMlEy/1q1yqoGW8yR5H7A8F",
      "include_colab_link": true
    },
    "kernelspec": {
      "name": "python3",
      "display_name": "Python 3"
    },
    "language_info": {
      "name": "python"
    }
  },
  "cells": [
    {
      "cell_type": "markdown",
      "metadata": {
        "id": "view-in-github",
        "colab_type": "text"
      },
      "source": [
        "<a href=\"https://colab.research.google.com/github/arifanabilaa/PBO/blob/main/SESI_3.ipynb\" target=\"_parent\"><img src=\"https://colab.research.google.com/assets/colab-badge.svg\" alt=\"Open In Colab\"/></a>"
      ]
    },
    {
      "cell_type": "markdown",
      "source": [
        "#SESI 3"
      ],
      "metadata": {
        "id": "iIo_-R5NC-o9"
      }
    },
    {
      "cell_type": "markdown",
      "source": [
        "**Contoh sederhana perulangan for**"
      ],
      "metadata": {
        "id": "9ixUO_suDAq3"
      }
    },
    {
      "cell_type": "code",
      "source": [
        "# Deklarasi variabel contoh dan 10 itu sebagai tanda 10 kali perulangan\n",
        "contoh = 10\n",
        "\n",
        "# Variabel i berfungsi untuk menampung indeks,\n",
        "# dan fungsi range() berfungsi untuk membuat list dari 0-10.\n",
        "for i in range(contoh):\n",
        "    print (\"Perulangan ke-\" +str(i))\n",
        "\n",
        "\n",
        "# Menampilkan range dari kumpulan deret tertentu\n",
        "# range(5,10) akan membuat deret angka mulai dari 5, 6, 7, 8, dan 9.\n",
        "\n",
        "for i in range(5,10):\n",
        "  print(i)"
      ],
      "metadata": {
        "colab": {
          "base_uri": "https://localhost:8080/"
        },
        "id": "oZVFpNMeDF6e",
        "outputId": "1869e510-11c3-4733-b1fb-a5796d915d1f"
      },
      "execution_count": null,
      "outputs": [
        {
          "output_type": "stream",
          "name": "stdout",
          "text": [
            "Perulangan ke-0\n",
            "Perulangan ke-1\n",
            "Perulangan ke-2\n",
            "Perulangan ke-3\n",
            "Perulangan ke-4\n",
            "Perulangan ke-5\n",
            "Perulangan ke-6\n",
            "Perulangan ke-7\n",
            "Perulangan ke-8\n",
            "Perulangan ke-9\n",
            "5\n",
            "6\n",
            "7\n",
            "8\n",
            "9\n"
          ]
        }
      ]
    },
    {
      "cell_type": "markdown",
      "source": [
        "**Contoh menampilkan isi dalam body perulangan**"
      ],
      "metadata": {
        "id": "Ru6fibgcDMzj"
      }
    },
    {
      "cell_type": "code",
      "source": [
        "# Deklarasi variabel contoh2 dengan tipe list\n",
        "contoh2 = ['saya','suka','menonton','film', 'barat']\n",
        "\n",
        "for isi in contoh2:\n",
        "    print (isi)"
      ],
      "metadata": {
        "colab": {
          "base_uri": "https://localhost:8080/"
        },
        "id": "ujmHWRGyDdyX",
        "outputId": "3bef2d5f-7f32-41b5-ed3a-ca6715d35c89"
      },
      "execution_count": null,
      "outputs": [
        {
          "output_type": "stream",
          "name": "stdout",
          "text": [
            "saya\n",
            "suka\n",
            "menonton\n",
            "film\n",
            "barat\n"
          ]
        }
      ]
    },
    {
      "cell_type": "markdown",
      "source": [
        "**Contoh menggunakan while**"
      ],
      "metadata": {
        "id": "YpPWUxsYDrxv"
      }
    },
    {
      "cell_type": "code",
      "source": [
        "# Deklarasi variabel hit\n",
        "hit = 0\n",
        "# Membuat kondisi\n",
        "while (hit < 5):\n",
        "    print(hit, \"kurang dari 5\")\n",
        "    hit = hit + 1\n",
        "else:\n",
        "# Menampilkan output salam jika kondisi sudah terpenuhi\n",
        "    print(\"Salammmm\")"
      ],
      "metadata": {
        "colab": {
          "base_uri": "https://localhost:8080/"
        },
        "id": "FJH8kJzXEBLj",
        "outputId": "ddb6626b-7077-4036-bf55-f95ab5572d76"
      },
      "execution_count": null,
      "outputs": [
        {
          "output_type": "stream",
          "name": "stdout",
          "text": [
            "0 kurang dari 5\n",
            "1 kurang dari 5\n",
            "2 kurang dari 5\n",
            "3 kurang dari 5\n",
            "4 kurang dari 5\n",
            "Salammmm\n"
          ]
        }
      ]
    },
    {
      "cell_type": "markdown",
      "source": [
        "**Program Menghitung Harga Tiket Masuk**"
      ],
      "metadata": {
        "id": "iSJvVIgyEGL0"
      }
    },
    {
      "cell_type": "code",
      "source": [
        "##\n",
        "# Program menghitung Faktor Persekutuan Terbesa\n",
        "#\n",
        "\n",
        "# Membaca dua bilangan positif dari user\n",
        "n = int(input(\"Masukkan bilangan positif:\"))\n",
        "m = int(input(\"Masukkan bilangan positif:\"))\n",
        "\n",
        "# Inisialisasi variabel untuk nilai terkecil dari n dan m\n",
        "d = min(n, m)\n",
        "\n",
        "# Gunakan loop while untuk mencari FPT\n",
        "while n % d != 0 or m % d != 0:\n",
        "  d = d - 1\n",
        "\n",
        "# Menampilkan hasil\n",
        "print(\"Faktor persekutuan terbesar dari\", n, \"dan\", m, \" adalah\", d)\n"
      ],
      "metadata": {
        "colab": {
          "base_uri": "https://localhost:8080/"
        },
        "id": "CgYyLE7YEIMH",
        "outputId": "8bae65ea-a03f-4931-8a05-28bd554f813e"
      },
      "execution_count": null,
      "outputs": [
        {
          "output_type": "stream",
          "name": "stdout",
          "text": [
            "Masukkan bilangan positif:2\n",
            "Masukkan bilangan positif:6\n",
            "Faktor persekutuan terbesar dari 2 dan 6  adalah 2\n"
          ]
        }
      ]
    },
    {
      "cell_type": "markdown",
      "source": [
        "**Program Mencari Nilai Maksimum dari 100 bilangan bulat**"
      ],
      "metadata": {
        "id": "PsHNNYJUEQOp"
      }
    },
    {
      "cell_type": "code",
      "source": [
        "##\n",
        "# Menentukan nilai maksimum 100 bilangan bulat, menghitung berapa kali\n",
        "# perulangan\n",
        "\n",
        "from random import randrange\n",
        "\n",
        "BIL_ITEMS = 100\n",
        "\n",
        "# Generate the first number and menampilkan nya\n",
        "maks_nilai = randrange(1, BIL_ITEMS + 1)\n",
        "print(maks_nilai)\n",
        "\n",
        "# Menghitung berapa kali perubahan\n",
        "bil_update = 0\n",
        "\n",
        "# Untuk setiap bilangan\n",
        "for i in range(1, BIL_ITEMS):\n",
        "  # Generate bilangan acak\n",
        "  current = randrange(1, BIL_ITEMS + 1)\n",
        "\n",
        "  # Kondisi jika ditemukan bilangan terbesar\n",
        "  if current > maks_nilai:\n",
        "    # Update nilai maksimum dan hitung perubahan\n",
        "    maks_nilai = current\n",
        "    bil_update = bil_update + 1\n",
        "    # Tampilkan bilangan jika masih ada proses update\n",
        "    print(current, \"<== Update\")\n",
        "  else:\n",
        "    #Tampilkan bilangan\n",
        "    print(current)\n",
        "\n",
        "# Tampilkan Hasil Terakhir\n",
        "print(\" Nilai maksimum yang ditemukan adalah\", maks_nilai)\n",
        "print(\"Nilai maksimum yang di-update\", bil_update, \"kali\")\n"
      ],
      "metadata": {
        "id": "vTG6l4Y8EUmF",
        "outputId": "d903ef0d-9997-4420-dd43-6e3dea1b0e40",
        "colab": {
          "base_uri": "https://localhost:8080/"
        }
      },
      "execution_count": null,
      "outputs": [
        {
          "output_type": "stream",
          "name": "stdout",
          "text": [
            "32\n",
            "74 <== Update\n",
            "23\n",
            "80 <== Update\n",
            "99 <== Update\n",
            "66\n",
            "46\n",
            "96\n",
            "57\n",
            "85\n",
            "10\n",
            "17\n",
            "94\n",
            "16\n",
            "89\n",
            "61\n",
            "96\n",
            "52\n",
            "79\n",
            "79\n",
            "90\n",
            "67\n",
            "58\n",
            "76\n",
            "52\n",
            "9\n",
            "72\n",
            "38\n",
            "59\n",
            "100 <== Update\n",
            "54\n",
            "64\n",
            "72\n",
            "99\n",
            "49\n",
            "56\n",
            "97\n",
            "94\n",
            "37\n",
            "23\n",
            "98\n",
            "6\n",
            "79\n",
            "33\n",
            "6\n",
            "33\n",
            "93\n",
            "96\n",
            "46\n",
            "7\n",
            "94\n",
            "63\n",
            "2\n",
            "70\n",
            "52\n",
            "21\n",
            "62\n",
            "74\n",
            "68\n",
            "73\n",
            "26\n",
            "54\n",
            "18\n",
            "3\n",
            "99\n",
            "94\n",
            "76\n",
            "24\n",
            "15\n",
            "46\n",
            "64\n",
            "54\n",
            "24\n",
            "57\n",
            "92\n",
            "9\n",
            "95\n",
            "44\n",
            "49\n",
            "88\n",
            "68\n",
            "38\n",
            "37\n",
            "27\n",
            "51\n",
            "14\n",
            "94\n",
            "34\n",
            "19\n",
            "86\n",
            "97\n",
            "89\n",
            "42\n",
            "94\n",
            "53\n",
            "14\n",
            "64\n",
            "94\n",
            "10\n",
            "69\n",
            " Nilai maksimum yang ditemukan adalah 100\n",
            "Nilai maksimum yang di-update 4 kali\n"
          ]
        }
      ]
    }
  ]
}