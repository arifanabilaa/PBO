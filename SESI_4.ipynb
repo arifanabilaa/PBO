{
  "nbformat": 4,
  "nbformat_minor": 0,
  "metadata": {
    "colab": {
      "provenance": [],
      "authorship_tag": "ABX9TyPjxehkCh1yV7MicoUXO3jz",
      "include_colab_link": true
    },
    "kernelspec": {
      "name": "python3",
      "display_name": "Python 3"
    },
    "language_info": {
      "name": "python"
    }
  },
  "cells": [
    {
      "cell_type": "markdown",
      "metadata": {
        "id": "view-in-github",
        "colab_type": "text"
      },
      "source": [
        "<a href=\"https://colab.research.google.com/github/arifanabilaa/PBO/blob/main/SESI_4.ipynb\" target=\"_parent\"><img src=\"https://colab.research.google.com/assets/colab-badge.svg\" alt=\"Open In Colab\"/></a>"
      ]
    },
    {
      "cell_type": "markdown",
      "source": [
        "#SESI 4"
      ],
      "metadata": {
        "id": "BcHbhWjYEuuI"
      }
    },
    {
      "cell_type": "markdown",
      "source": [
        "**Membuat fungsi tanpa parameter**"
      ],
      "metadata": {
        "id": "U3SFi_jXFCy2"
      }
    },
    {
      "cell_type": "code",
      "source": [
        "# Program Fungsi dengan parameter\n",
        "# Fungsi untuk menyapa seseorang sesuai nama yang dimasukkan sebagai parameter\n",
        "def kenalan(nama):\n",
        "     print(\"Salam, \" + nama + \". Apa kabar?\")\n",
        "\n",
        "# pemanggilan fungsi\n",
        "kenalan('Arifa')"
      ],
      "metadata": {
        "colab": {
          "base_uri": "https://localhost:8080/"
        },
        "id": "CD5aqajDFFu7",
        "outputId": "396d3776-7239-4e5d-a3b7-5e7065c5eaa7"
      },
      "execution_count": null,
      "outputs": [
        {
          "output_type": "stream",
          "name": "stdout",
          "text": [
            "Salam, Arifa. Apa kabar?\n"
          ]
        }
      ]
    },
    {
      "cell_type": "markdown",
      "source": [
        "**Program untuk mencari nilai median**"
      ],
      "metadata": {
        "id": "ixM4LDb3FJe0"
      }
    },
    {
      "cell_type": "code",
      "source": [
        "# Menghitung dan menampilkan nilai median dari inputan tiga angka\n",
        "# Program ini dibuat dengan kata kunci def untuk membuat fungsi\n",
        "# menghitung nilai median dari 3 nilai yang diinput\n",
        "\n",
        "def median(a, b, c):\n",
        "# Proses perhitungan median cara pertama dengan perbandingan\n",
        "# Menggunakan kata kunci retun untuk mengembalikan nilai\n",
        "# untuk masing-masing nilai, yaitu a, b dan c\n",
        "  if a < b and b < c or a> b and b > c:\n",
        "    return b\n",
        "  if b < a and a < c or b > a and a > c:\n",
        "    return a\n",
        "  if c < a and b < c or c > a and b > c:\n",
        "    return c\n",
        "\n",
        "# Proses perhitungan median cara kedua\n",
        "def median2(a, b, c):\n",
        "    return a + b + c - min(a, b, c) - max(a, b, c)\n",
        "\n",
        "# Menampilkan nilai inputan 3 angka\n",
        "def utama():\n",
        "  x = float(input(\"Masukkan nilai pertama:\"))\n",
        "  y = float(input(\"Masukkan nilai kedua:\"))\n",
        "  z = float(input(\"Masukkan nilai ketiga:\"))\n",
        "\n",
        "  print(\"Nilai median dengan cara pertama:\", median(x, y, z))\n",
        "  print(\"Nilai median dengan cara kedua:\", median2(x, y, z))\n",
        "\n",
        "# Memanggil fungsi utama()\n",
        "utama()"
      ],
      "metadata": {
        "colab": {
          "base_uri": "https://localhost:8080/"
        },
        "id": "eH-uCkfOFO8-",
        "outputId": "fd5e68f9-4ebb-431e-e835-f7f9146acd21"
      },
      "execution_count": null,
      "outputs": [
        {
          "output_type": "stream",
          "name": "stdout",
          "text": [
            "Masukkan nilai pertama:5\n",
            "Masukkan nilai kedua:10\n",
            "Masukkan nilai ketiga:15\n",
            "Nilai median dengan cara pertama: 10.0\n",
            "Nilai median dengan cara kedua: 10.0\n"
          ]
        }
      ]
    }
  ]
}