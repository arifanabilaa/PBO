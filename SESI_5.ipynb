{
  "nbformat": 4,
  "nbformat_minor": 0,
  "metadata": {
    "colab": {
      "provenance": [],
      "authorship_tag": "ABX9TyNk0XV+OcYySATBfjLL52iU",
      "include_colab_link": true
    },
    "kernelspec": {
      "name": "python3",
      "display_name": "Python 3"
    },
    "language_info": {
      "name": "python"
    }
  },
  "cells": [
    {
      "cell_type": "markdown",
      "metadata": {
        "id": "view-in-github",
        "colab_type": "text"
      },
      "source": [
        "<a href=\"https://colab.research.google.com/github/arifanabilaa/PBO/blob/main/SESI_5.ipynb\" target=\"_parent\"><img src=\"https://colab.research.google.com/assets/colab-badge.svg\" alt=\"Open In Colab\"/></a>"
      ]
    },
    {
      "cell_type": "markdown",
      "source": [
        "#SESI 5"
      ],
      "metadata": {
        "id": "JsVSvot9G70a"
      }
    },
    {
      "cell_type": "markdown",
      "source": [
        "**Program Membuat List**"
      ],
      "metadata": {
        "id": "LosO5lKUG3ZU"
      }
    },
    {
      "cell_type": "code",
      "source": [
        "# Pembuatan list pada bahasa pemrograman python\n",
        "list1 = [\"a\", \"b\", \"c\", \"d\"]\n",
        "list2 = ['bahasa arab', 'bahasa aceh', 2019, 2020]\n",
        "list3 = [1, 2, 3, 4, 5, 6, 7 ]\n",
        "\n",
        "\n",
        "# Mengakses Nilai list dalam Python\n",
        "print (\"list1[0]: \", list1[0])\n",
        "print (\"list2[1:3]: \", list2[1:3])\n",
        "print (\"list3[1:5]: \", list3[1:6])"
      ],
      "metadata": {
        "colab": {
          "base_uri": "https://localhost:8080/"
        },
        "id": "5mGu70Y0G6i6",
        "outputId": "10c3f641-e77b-4087-a335-e991e969d9d8"
      },
      "execution_count": null,
      "outputs": [
        {
          "output_type": "stream",
          "name": "stdout",
          "text": [
            "list1[0]:  a\n",
            "list2[1:3]:  ['bahasa aceh', 2019]\n",
            "list3[1:5]:  [2, 3, 4, 5, 6]\n"
          ]
        }
      ]
    },
    {
      "cell_type": "markdown",
      "source": [
        "**Mengupdate Nilai pada List**"
      ],
      "metadata": {
        "id": "KyJw3mDRHTMp"
      }
    },
    {
      "cell_type": "code",
      "source": [
        "# Pembuatan list dan mengakses nilai list pada indeks 2\n",
        "list = ['bahasa arab', 'bahasa aceh', 2019, 2020]\n",
        "print (\"Nilai ada pada index 2 adalah: \", list[2])\n",
        "\n",
        "# Proses Update nilai list pada indeks 2\n",
        "list[2] = 2018\n",
        "print (\"Nilai baru ada pada index 2 adalah: \", list[2])"
      ],
      "metadata": {
        "colab": {
          "base_uri": "https://localhost:8080/"
        },
        "id": "QI99dvDdHZw3",
        "outputId": "f70c5f50-6a2a-4191-e841-891fea50b73a"
      },
      "execution_count": null,
      "outputs": [
        {
          "output_type": "stream",
          "name": "stdout",
          "text": [
            "Nilai ada pada index 2 adalah:  2019\n",
            "Nilai baru ada pada index 2 adalah:  2018\n"
          ]
        }
      ]
    },
    {
      "cell_type": "markdown",
      "source": [
        "**Menghapus Nilai pada List**"
      ],
      "metadata": {
        "id": "VNfN1aZOHq07"
      }
    },
    {
      "cell_type": "code",
      "source": [
        "# Pembuatan list\n",
        "list = ['bahasa arab', 'bahasa aceh', 2019, 2020]\n",
        "print (\"Daftar list sebelum dihapus:\", list)\n",
        "\n",
        "# Proses menghapus nilai List pada indeks 1\n",
        "del list[1]\n",
        "print (\"Setelah dihapus nilai pada index 1 : \", list)\n"
      ],
      "metadata": {
        "id": "bnWotWCSHz_P",
        "outputId": "a4965e1d-ecb7-40be-fca3-f45d2ce1b76b",
        "colab": {
          "base_uri": "https://localhost:8080/"
        }
      },
      "execution_count": null,
      "outputs": [
        {
          "output_type": "stream",
          "name": "stdout",
          "text": [
            "Daftar list sebelum dihapus: ['bahasa arab', 'bahasa aceh', 2019, 2020]\n",
            "Setelah dihapus nilai pada index 1 :  ['bahasa arab', 2019, 2020]\n"
          ]
        }
      ]
    }
  ]
}