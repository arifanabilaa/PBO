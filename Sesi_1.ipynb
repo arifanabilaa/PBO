{
  "nbformat": 4,
  "nbformat_minor": 0,
  "metadata": {
    "colab": {
      "provenance": [],
      "toc_visible": true,
      "authorship_tag": "ABX9TyMNpuJqGZgRrILUF6FHxELR",
      "include_colab_link": true
    },
    "kernelspec": {
      "name": "python3",
      "display_name": "Python 3"
    },
    "language_info": {
      "name": "python"
    }
  },
  "cells": [
    {
      "cell_type": "markdown",
      "metadata": {
        "id": "view-in-github",
        "colab_type": "text"
      },
      "source": [
        "<a href=\"https://colab.research.google.com/github/arifanabilaa/PBO/blob/main/Sesi_1.ipynb\" target=\"_parent\"><img src=\"https://colab.research.google.com/assets/colab-badge.svg\" alt=\"Open In Colab\"/></a>"
      ]
    },
    {
      "cell_type": "markdown",
      "source": [
        "#sesi1"
      ],
      "metadata": {
        "id": "960dU84au3l-"
      }
    },
    {
      "cell_type": "markdown",
      "source": [
        "**Menggunakan sintaks print**"
      ],
      "metadata": {
        "id": "CGf-U5d6miGR"
      }
    },
    {
      "cell_type": "code",
      "source": [
        "##\n",
        "# Menampilkan alamat lengkap seseorang\n",
        "#\n",
        "print(\"Hendri Ahmadian\")\n",
        "print(\"Department of Information Technology\")\n",
        "print(\"UIN Ar-Raniry\")\n",
        "print(\"Jalan Syech Abdurrauf Kopelma Darussalam\")\n",
        "print(\"Banda Aceh 23111\")\n",
        "print(\"Indonesia\")\n"
      ],
      "metadata": {
        "colab": {
          "base_uri": "https://localhost:8080/"
        },
        "id": "WueWgMkmmm_6",
        "outputId": "4c79d8b4-79fb-4fa2-d77f-feb3a6772fd2"
      },
      "execution_count": null,
      "outputs": [
        {
          "output_type": "stream",
          "name": "stdout",
          "text": [
            "Hendri Ahmadian\n",
            "Department of Information Technology\n",
            "UIN Ar-Raniry\n",
            "Jalan Syech Abdurrauf Kopelma Darussalam\n",
            "Banda Aceh 23111\n",
            "Indonesia\n"
          ]
        }
      ]
    },
    {
      "cell_type": "markdown",
      "source": [
        "**Menghitung luas kamar**"
      ],
      "metadata": {
        "id": "xdbfhTVAmzGH"
      }
    },
    {
      "cell_type": "code",
      "source": [
        "##\n",
        "# Menghitung luas kamar\n",
        "#\n",
        "\n",
        "# Membaca angka yang dimasukkan oleh user\n",
        "panjang = float(input(\"Masukkan ukuran panjang dalam satuan meter \"))\n",
        "lebar = float(input(\"Masukkan ukuran lebar dalam satuan meter \"))\n",
        "\n",
        "# Proses perhitungan luas\n",
        "luas = panjang * lebar\n",
        "\n",
        "# Tampilkan hasil\n",
        "print(\"Luas dari kamar ini adalah\", luas, \"meter kuadrat\")"
      ],
      "metadata": {
        "colab": {
          "base_uri": "https://localhost:8080/"
        },
        "id": "TK5cqnvWm4xI",
        "outputId": "87384fea-f638-4cb0-a4a2-13fc4a30c781"
      },
      "execution_count": null,
      "outputs": [
        {
          "output_type": "stream",
          "name": "stdout",
          "text": [
            "Masukkan ukuran panjang dalam satuan meter 5\n",
            "Masukkan ukuran lebar dalam satuan meter 4\n",
            "Luas dari kamar ini adalah 20.0 meter kuadrat\n"
          ]
        }
      ]
    },
    {
      "cell_type": "markdown",
      "source": [
        "**Menghitung jumlah dari suatu bilangan**"
      ],
      "metadata": {
        "id": "y-LWxflTnIgm"
      }
    },
    {
      "cell_type": "code",
      "source": [
        "##\n",
        "# Menghitung jumlah dari bilangan positif pertama\n",
        "#\n",
        "\n",
        "# Membaca angka yang dimasukkan oleh user\n",
        "n = int(input(\"Masukkan bilangan bulat positif:\"))\n",
        "\n",
        "# Proses Menghitung jumlah\n",
        "sm = n * (n+1) / 2\n",
        "\n",
        "# Tampilkan hasil\n",
        "print(\"Jumlah pertama dari \", n, \"bilangan positif adalah\", sm)\n"
      ],
      "metadata": {
        "colab": {
          "base_uri": "https://localhost:8080/"
        },
        "id": "2jXo_x0mnPBV",
        "outputId": "b5d6d323-f92f-4954-aeb8-879005f47555"
      },
      "execution_count": null,
      "outputs": [
        {
          "output_type": "stream",
          "name": "stdout",
          "text": [
            "Masukkan bilangan bulat positif:2\n",
            "Jumlah pertama dari  2 bilangan positif adalah 3.0\n"
          ]
        }
      ]
    },
    {
      "cell_type": "markdown",
      "source": [
        "**Mengenal fungsi aritmatika**"
      ],
      "metadata": {
        "id": "a8Yv3aMync3X"
      }
    },
    {
      "cell_type": "code",
      "source": [
        "##\n",
        "# Pengenalan operator matematika pada Python dan modul math\n",
        "#\n",
        "\n",
        "from math import log10\n",
        "\n",
        "# Membaca input dari user\n",
        "x = int (input(\"Masukkan bilangan dari x:\"))\n",
        "y = int (input(\"Masukkan bilangan dari y:\"))\n",
        "\n",
        "# Menghitung dan menampilkan operator matematika\n",
        "print(x, \"+\", y, \"adalah\", x + y)\n",
        "print(x, \"-\", y, \"adalah\", x - y)\n",
        "print(x, \"*\", y, \"adalah\", x * y)\n",
        "print(x, \"/\", y, \"adalah\", x / y)\n",
        "print(x, \"%\", y, \"adalah\", x % y)\n",
        "\n",
        "# Menghitung logaritma dan pangkat\n",
        "print(\"Logaritma basis 10 dari\", x, \"adalah\", log10(x))\n",
        "print(x, \"^\", y, \"adalah\", x**y)\n"
      ],
      "metadata": {
        "colab": {
          "base_uri": "https://localhost:8080/"
        },
        "id": "v350CTH1nlsf",
        "outputId": "0ab652b1-8217-41d1-c606-82caed9facfc"
      },
      "execution_count": null,
      "outputs": [
        {
          "output_type": "stream",
          "name": "stdout",
          "text": [
            "Masukkan bilangan dari x:2\n",
            "Masukkan bilangan dari y:3\n",
            "2 + 3 adalah 5\n",
            "2 - 3 adalah -1\n",
            "2 * 3 adalah 6\n",
            "2 / 3 adalah 0.6666666666666666\n",
            "2 % 3 adalah 2\n",
            "Logaritma basis 10 dari 2 adalah 0.3010299956639812\n",
            "2 ^ 3 adalah 8\n"
          ]
        }
      ]
    },
    {
      "cell_type": "markdown",
      "source": [
        "#sesi2"
      ],
      "metadata": {
        "id": "PrFSG0V0oBTJ"
      }
    },
    {
      "cell_type": "markdown",
      "source": [
        "**Menentukan apakah suatu bilangan genap atau ganjil**"
      ],
      "metadata": {
        "id": "wH9qtFIDoPYE"
      }
    },
    {
      "cell_type": "code",
      "source": [
        "##\n",
        "# Program untuk menentukan apakah sebuah bilangan yang diinput ganjil atau genap\n",
        "#\n",
        "\n",
        "# Membaca bilangan yang dimasukkan user\n",
        "bil = int(input(\"Masukkan sebuah bilangan:\"))\n",
        "\n",
        "# Proses untuk menentukan bilangan tersebut ganjil atau genap\n",
        "# Menggunakan operator modulus\n",
        "if bil % 2 == 1:\n",
        "  print(bil, \"adalah bilangan ganjil\")\n",
        "else:\n",
        "  print(bil, \"adalah bilangan genap\")"
      ],
      "metadata": {
        "colab": {
          "base_uri": "https://localhost:8080/"
        },
        "id": "5ao1MHFloqxP",
        "outputId": "d62cf67e-0cd0-4b65-eb23-e7e0608c3bfc"
      },
      "execution_count": null,
      "outputs": [
        {
          "output_type": "stream",
          "name": "stdout",
          "text": [
            "Masukkan sebuah bilangan:2\n",
            "2 adalah bilangan genap\n"
          ]
        }
      ]
    },
    {
      "cell_type": "markdown",
      "source": [
        "Menentukan suatu huruf vokal atau **konsonan**"
      ],
      "metadata": {
        "id": "-mDlh_aQozyZ"
      }
    },
    {
      "cell_type": "code",
      "source": [
        "##\n",
        "# Program untuk menentukan apakah huruf tersebut vokal atau konsonan\n",
        "# Dalam Ejaan Bahasa Inggris\n",
        "\n",
        "# Membaca huruf yang dimasukkan user\n",
        "hur= input(\"Masukkan sebuah huruf dari kumpulan abjad:\")\n",
        "\n",
        "#Proses menentukan huruf dan menampilkan hasilnya\n",
        "if hur ==\"a\" or hur == \"e\" or \\\n",
        "   hur ==\"i\" or hur == \"o\" or \\\n",
        "   hur ==\"u\":\n",
        "  print(\"Ini adalah vokal.\")\n",
        "elif hur ==\"y\":\n",
        "  print(\"Kadang vokal...kadang konsonan\")\n",
        "else:\n",
        "  print(\"Ini adalah konsonan.\")"
      ],
      "metadata": {
        "colab": {
          "base_uri": "https://localhost:8080/"
        },
        "id": "5Nae9AELo5nI",
        "outputId": "4bc61e50-66ee-4dd5-97b8-67ea668c5d10"
      },
      "execution_count": null,
      "outputs": [
        {
          "output_type": "stream",
          "name": "stdout",
          "text": [
            "Masukkan sebuah huruf dari kumpulan abjad:a\n",
            "Ini adalah vokal.\n"
          ]
        }
      ]
    },
    {
      "cell_type": "markdown",
      "source": [
        "**Program Menentukan nama Ukuran geometri berdasarkan sisinya**"
      ],
      "metadata": {
        "id": "fL5IRLDrpDWY"
      }
    },
    {
      "cell_type": "code",
      "source": [
        "##\n",
        "# Menampilkan nama ukuran geometri berdasarkan jumlah sisi yang diinput\n",
        "#\n",
        "\n",
        "# Membaca jumlah sisi yang diinput oleh user\n",
        "sisi = int(input(\"Masukkan jumlah sisinya:\"))\n",
        "\n",
        "# Menampilkan nama ukuran geometri tersebut\n",
        "nama = \"\"\n",
        "if sisi == 3:\n",
        "  nama = \"triangle\"\n",
        "elif sisi == 4:\n",
        "  nama = \"quadrilateral\"\n",
        "elif sisi == 5:\n",
        "  nama = \"pentagon\"\n",
        "elif sisi == 6:\n",
        "  nama = \"hexagon\"\n",
        "elif sisi == 7:\n",
        "  nama = \"heptagon\"\n",
        "elif sisi == 8:\n",
        "  nama = \"ocatagon\"\n",
        "elif sisi == 9:\n",
        "  nama = \"nonagon\"\n",
        "elif sisi == 10:\n",
        "  nama = \"decagon\"\n",
        "\n",
        "# Menampilkan pesan kesalahan atau nama dari ruang geometri\n",
        "if nama == \"\":\n",
        "  print(\"Jumlah sisi yang diinput tidak ada dalam database\")\n",
        "else:\n",
        "  print(\"Ini adalah\", nama)"
      ],
      "metadata": {
        "colab": {
          "base_uri": "https://localhost:8080/"
        },
        "id": "kSe7lm_JpY5G",
        "outputId": "9c1dcc7e-3f8f-4dde-c018-bf0e4efe9085"
      },
      "execution_count": null,
      "outputs": [
        {
          "output_type": "stream",
          "name": "stdout",
          "text": [
            "Masukkan jumlah sisinya:7\n",
            "Ini adalah heptagon\n"
          ]
        }
      ]
    },
    {
      "cell_type": "markdown",
      "source": [
        "**Program menampilkan 4 musim berdasarkan bulan dan tanggal**"
      ],
      "metadata": {
        "id": "TWYLLnOyphDk"
      }
    },
    {
      "cell_type": "code",
      "source": [
        "##\n",
        "# Menentukan dan menampilkan nama musim berdasarkan tanggal\n",
        "#\n",
        "\n",
        "# Membaca tanggal yang diinput oleh user\n",
        "bulan = input(\"masukkan nama bulan:\")\n",
        "tgl = int(input(\"masukkan tanggal dibulan tersebut:\"))\n",
        "\n",
        "# Proses menentukan nama musim\n",
        "if bulan == \"Januari\" or bulan ==\"Februari\":\n",
        "  musim = \"Winter\"\n",
        "elif bulan == \"Maret\":\n",
        "  if tgl < 20:\n",
        "    musim = \"Winter\"\n",
        "  else:\n",
        "    musim = \"Spring\"\n",
        "elif bulan ==\"April\" or bulan == \"Mei\":\n",
        "  musim = \"Spring\"\n",
        "elif bulan == \"Juni\":\n",
        "  if tgl < 21:\n",
        "    musim = \"Spring\"\n",
        "  else:\n",
        "    musim = \"Summer\"\n",
        "elif bulan ==\"Juli\" or bulan == \"Agustus\":\n",
        "  musim = \"Summer\"\n",
        "elif bulan == \"September\":\n",
        "   if tgl < 22:\n",
        "     musim = \"Summer\"\n",
        "   else:\n",
        "     musim = \"Fall\"\n",
        "elif bulan ==\"Oktober\" or bulan == \"November\":\n",
        "  musim = \"Fall\"\n",
        "elif bulan == \"Desember\":\n",
        "    if tgl < 21:\n",
        "      musim = \"Fall\"\n",
        "    else:\n",
        "      musim = \"Winter\"\n",
        "\n",
        "# Tampilkan hasil\n",
        "print(tgl, bulan, \"adalah dalam musim\", musim)"
      ],
      "metadata": {
        "colab": {
          "base_uri": "https://localhost:8080/"
        },
        "id": "he-MnKkBpmot",
        "outputId": "905395f8-276b-4c7c-c98d-c783365bbd92"
      },
      "execution_count": null,
      "outputs": [
        {
          "output_type": "stream",
          "name": "stdout",
          "text": [
            "masukkan nama bulan:Desember\n",
            "masukkan tanggal dibulan tersebut:10\n",
            "10 Desember adalah dalam musim Fall\n"
          ]
        }
      ]
    },
    {
      "cell_type": "markdown",
      "source": [
        "#sesi3"
      ],
      "metadata": {
        "id": "61qE82h_qNah"
      }
    },
    {
      "cell_type": "markdown",
      "source": [
        "**Contoh sederhana perulangan for**"
      ],
      "metadata": {
        "id": "ppM9Yj_wqZVz"
      }
    },
    {
      "cell_type": "code",
      "source": [
        "# Deklarasi variabel contoh dan 10 itu sebagai tanda 10 kali perulangan\n",
        "contoh = 10\n",
        "\n",
        "# Variabel i berfungsi untuk menampung indeks,\n",
        "# dan fungsi range() berfungsi untuk membuat list dari 0-10.\n",
        "for i in range(contoh):\n",
        "    print (\"Perulangan ke-\" +str(i))\n",
        "\n",
        "\n",
        "# Menampilkan range dari kumpulan deret tertentu\n",
        "# range(5,10) akan membuat deret angka mulai dari 5, 6, 7, 8, dan 9.\n",
        "\n",
        "for i in range(5,10):\n",
        "  print(i)"
      ],
      "metadata": {
        "colab": {
          "base_uri": "https://localhost:8080/"
        },
        "id": "5nwlqU9SqgIk",
        "outputId": "6bf5849b-1313-4f72-e1fb-8995e9b6c978"
      },
      "execution_count": null,
      "outputs": [
        {
          "output_type": "stream",
          "name": "stdout",
          "text": [
            "Perulangan ke-0\n",
            "Perulangan ke-1\n",
            "Perulangan ke-2\n",
            "Perulangan ke-3\n",
            "Perulangan ke-4\n",
            "Perulangan ke-5\n",
            "Perulangan ke-6\n",
            "Perulangan ke-7\n",
            "Perulangan ke-8\n",
            "Perulangan ke-9\n",
            "5\n",
            "6\n",
            "7\n",
            "8\n",
            "9\n"
          ]
        }
      ]
    },
    {
      "cell_type": "markdown",
      "source": [
        "**Contoh menampilkan isi dalam body perulangan**"
      ],
      "metadata": {
        "id": "6tUw_a2Nqpcc"
      }
    },
    {
      "cell_type": "code",
      "source": [
        "# Deklarasi variabel contoh2 dengan tipe list\n",
        "contoh2 = ['saya','suka','minum','kopi', 'gayo']\n",
        "\n",
        "for isi in contoh2:\n",
        "    print (isi)"
      ],
      "metadata": {
        "colab": {
          "base_uri": "https://localhost:8080/"
        },
        "id": "vO_acQ09qsrK",
        "outputId": "64464166-afa9-49d3-be9e-4fd4868e71d2"
      },
      "execution_count": null,
      "outputs": [
        {
          "output_type": "stream",
          "name": "stdout",
          "text": [
            "saya\n",
            "suka\n",
            "minum\n",
            "kopi\n",
            "gayo\n"
          ]
        }
      ]
    },
    {
      "cell_type": "markdown",
      "source": [
        "**Contoh menggunakan while**"
      ],
      "metadata": {
        "id": "HuTTSV0RqyfC"
      }
    },
    {
      "cell_type": "code",
      "source": [
        "# Deklarasi variabel hit\n",
        "hit = 0\n",
        "# Membuat kondisi\n",
        "while (hit < 5):\n",
        "    print(hit, \"kurang dari 5\")\n",
        "    hit = hit + 1\n",
        "else:\n",
        "# Menampilkan output salam jika kondisi sudah terpenuhi\n",
        "    print(\"Salammmm\")"
      ],
      "metadata": {
        "colab": {
          "base_uri": "https://localhost:8080/"
        },
        "id": "UiaZiJwYq4gu",
        "outputId": "adc17794-265e-4f7f-f1c2-362c5bfc1469"
      },
      "execution_count": null,
      "outputs": [
        {
          "output_type": "stream",
          "name": "stdout",
          "text": [
            "0 kurang dari 5\n",
            "1 kurang dari 5\n",
            "2 kurang dari 5\n",
            "3 kurang dari 5\n",
            "4 kurang dari 5\n",
            "Salammmm\n"
          ]
        }
      ]
    },
    {
      "cell_type": "markdown",
      "source": [
        "**Program Menghitung Harga Tiket Masuk**"
      ],
      "metadata": {
        "id": "1aiuuFkTq_Z_"
      }
    },
    {
      "cell_type": "code",
      "source": [
        "##\n",
        "# Program menghitung Faktor Persekutuan Terbesa\n",
        "#\n",
        "\n",
        "# Membaca dua bilangan positif dari user\n",
        "n = int(input(\"Masukkan bilangan positif:\"))\n",
        "m = int(input(\"Masukkan bilangan positif:\"))\n",
        "\n",
        "# Inisialisasi variabel untuk nilai terkecil dari n dan m\n",
        "d = min(n, m)\n",
        "\n",
        "# Gunakan loop while untuk mencari FPT\n",
        "while n % d != 0 or m % d != 0:\n",
        "  d = d - 1\n",
        "\n",
        "# Menampilkan hasil\n",
        "print(\"Faktor persekutuan terbesar dari\", n, \"dan\", m, \" adalah\", d)\n"
      ],
      "metadata": {
        "colab": {
          "base_uri": "https://localhost:8080/"
        },
        "id": "mNHtjFxarZVV",
        "outputId": "e9721d59-9dd7-4131-b4a5-50eb97744129"
      },
      "execution_count": null,
      "outputs": [
        {
          "output_type": "stream",
          "name": "stdout",
          "text": [
            "Masukkan bilangan positif:2\n",
            "Masukkan bilangan positif:4\n",
            "Faktor persekutuan terbesar dari 2 dan 4  adalah 2\n"
          ]
        }
      ]
    },
    {
      "cell_type": "markdown",
      "source": [
        "**Program Mencari Nilai Maksimum dari 100 bilangan bulat**"
      ],
      "metadata": {
        "id": "afCOpWk5rmGc"
      }
    },
    {
      "cell_type": "code",
      "source": [
        "##\n",
        "# Menentukan nilai maksimum 100 bilangan bulat, menghitung berapa kali\n",
        "# perulangan\n",
        "\n",
        "from random import randrange\n",
        "\n",
        "BIL_ITEMS = 100\n",
        "\n",
        "# Generate the first number and menampilkan nya\n",
        "maks_nilai = randrange(1, BIL_ITEMS + 1)\n",
        "print(maks_nilai)\n",
        "\n",
        "# Menghitung berapa kali perubahan\n",
        "bil_update = 0\n",
        "\n",
        "# Untuk setiap bilangan\n",
        "for i in range(1, BIL_ITEMS):\n",
        "  # Generate bilangan acak\n",
        "  current = randrange(1, BIL_ITEMS + 1)\n",
        "\n",
        "  # Kondisi jika ditemukan bilangan terbesar\n",
        "  if current > maks_nilai:\n",
        "    # Update nilai maksimum dan hitung perubahan\n",
        "    maks_nilai = current\n",
        "    bil_update = bil_update + 1\n",
        "    # Tampilkan bilangan jika masih ada proses update\n",
        "    print(current, \"<== Update\")\n",
        "  else:\n",
        "    #Tampilkan bilangan\n",
        "    print(current)\n",
        "\n",
        "# Tampilkan Hasil Terakhir\n",
        "print(\" Nilai maksimum yang ditemukan adalah\", maks_nilai)\n",
        "print(\"Nilai maksimum yang di-update\", bil_update, \"kali\")\n"
      ],
      "metadata": {
        "colab": {
          "base_uri": "https://localhost:8080/"
        },
        "id": "1qVuy-lIrtFr",
        "outputId": "5f164410-d4bb-4f6e-cc6e-caf75b619046"
      },
      "execution_count": null,
      "outputs": [
        {
          "output_type": "stream",
          "name": "stdout",
          "text": [
            "51\n",
            "4\n",
            "28\n",
            "85 <== Update\n",
            "37\n",
            "79\n",
            "51\n",
            "9\n",
            "12\n",
            "42\n",
            "61\n",
            "98 <== Update\n",
            "78\n",
            "32\n",
            "36\n",
            "55\n",
            "68\n",
            "95\n",
            "37\n",
            "4\n",
            "25\n",
            "31\n",
            "11\n",
            "51\n",
            "33\n",
            "46\n",
            "45\n",
            "25\n",
            "90\n",
            "52\n",
            "6\n",
            "61\n",
            "73\n",
            "32\n",
            "62\n",
            "90\n",
            "55\n",
            "75\n",
            "25\n",
            "59\n",
            "93\n",
            "99 <== Update\n",
            "70\n",
            "51\n",
            "26\n",
            "17\n",
            "42\n",
            "38\n",
            "49\n",
            "74\n",
            "54\n",
            "11\n",
            "61\n",
            "24\n",
            "81\n",
            "64\n",
            "8\n",
            "9\n",
            "96\n",
            "44\n",
            "62\n",
            "85\n",
            "22\n",
            "10\n",
            "82\n",
            "70\n",
            "4\n",
            "86\n",
            "80\n",
            "22\n",
            "94\n",
            "64\n",
            "58\n",
            "93\n",
            "88\n",
            "11\n",
            "46\n",
            "27\n",
            "8\n",
            "29\n",
            "32\n",
            "6\n",
            "57\n",
            "22\n",
            "69\n",
            "22\n",
            "98\n",
            "16\n",
            "50\n",
            "61\n",
            "47\n",
            "35\n",
            "89\n",
            "31\n",
            "5\n",
            "84\n",
            "53\n",
            "59\n",
            "78\n",
            "31\n",
            " Nilai maksimum yang ditemukan adalah 99\n",
            "Nilai maksimum yang di-update 3 kali\n"
          ]
        }
      ]
    },
    {
      "cell_type": "markdown",
      "source": [
        "# sesi4\n",
        "\n",
        "> Add blockquote\n",
        "\n"
      ],
      "metadata": {
        "id": "tBZ_1VoZr4Lx"
      }
    },
    {
      "cell_type": "markdown",
      "source": [
        "**Membuat fungsi tanpa parameter**"
      ],
      "metadata": {
        "id": "EaXee5_br_QL"
      }
    },
    {
      "cell_type": "code",
      "source": [
        "# Program Fungsi dengan parameter\n",
        "# Fungsi untuk menyapa seseorang sesuai nama yang dimasukkan sebagai parameter\n",
        "def kenalan(nama):\n",
        "     print(\"Salam, \" + nama + \". Apa kabar?\")\n",
        "\n",
        "# pemanggilan fungsi\n",
        "kenalan('Hamzah')"
      ],
      "metadata": {
        "colab": {
          "base_uri": "https://localhost:8080/"
        },
        "id": "VNaVhmzmsD7d",
        "outputId": "b10b6a23-35fc-4e5f-dc50-636c013d77a0"
      },
      "execution_count": null,
      "outputs": [
        {
          "output_type": "stream",
          "name": "stdout",
          "text": [
            "Salam, Hamzah. Apa kabar?\n"
          ]
        }
      ]
    },
    {
      "cell_type": "markdown",
      "source": [
        "**Program untuk mencari nilai median**"
      ],
      "metadata": {
        "id": "Ve8JI7S6sNdI"
      }
    },
    {
      "cell_type": "code",
      "source": [
        "# Menghitung dan menampilkan nilai median dari inputan tiga angka\n",
        "# Program ini dibuat dengan kata kunci def untuk membuat fungsi\n",
        "# menghitung nilai median dari 3 nilai yang diinput\n",
        "\n",
        "def median(a, b, c):\n",
        "# Proses perhitungan median cara pertama dengan perbandingan\n",
        "# Menggunakan kata kunci retun untuk mengembalikan nilai\n",
        "# untuk masing-masing nilai, yaitu a, b dan c\n",
        "  if a < b and b < c or a> b and b > c:\n",
        "    return b\n",
        "  if b < a and a < c or b > a and a > c:\n",
        "    return a\n",
        "  if c < a and b < c or c > a and b > c:\n",
        "    return c\n",
        "\n",
        "# Proses perhitungan median cara kedua\n",
        "def median2(a, b, c):\n",
        "    return a + b + c - min(a, b, c) - max(a, b, c)\n",
        "\n",
        "# Menampilkan nilai inputan 3 angka\n",
        "def utama():\n",
        "  x = float(input(\"Masukkan nilai pertama:\"))\n",
        "  y = float(input(\"Masukkan nilai kedua:\"))\n",
        "  z = float(input(\"Masukkan nilai ketiga:\"))\n",
        "\n",
        "  print(\"Nilai median dengan cara pertama:\", median(x, y, z))\n",
        "  print(\"Nilai median dengan cara kedua:\", median2(x, y, z))\n",
        "\n",
        "# Memanggil fungsi utama()\n",
        "utama()"
      ],
      "metadata": {
        "colab": {
          "base_uri": "https://localhost:8080/"
        },
        "id": "q1MiI5VCsSEu",
        "outputId": "f2a96945-4616-4022-9627-7b462bbfcd00"
      },
      "execution_count": null,
      "outputs": [
        {
          "output_type": "stream",
          "name": "stdout",
          "text": [
            "Masukkan nilai pertama:5\n",
            "Masukkan nilai kedua:10\n",
            "Masukkan nilai ketiga:15\n",
            "Nilai median dengan cara pertama: 10.0\n",
            "Nilai median dengan cara kedua: 10.0\n"
          ]
        }
      ]
    },
    {
      "cell_type": "markdown",
      "source": [],
      "metadata": {
        "id": "ZqWXTdvasmDQ"
      }
    },
    {
      "cell_type": "markdown",
      "source": [
        "# sesi5"
      ],
      "metadata": {
        "id": "l3bc8nG0su_v"
      }
    },
    {
      "cell_type": "markdown",
      "source": [
        "**Program Membuat List**"
      ],
      "metadata": {
        "id": "dwowKDHlsx7h"
      }
    },
    {
      "cell_type": "code",
      "source": [
        "# Pembuatan list pada bahasa pemrograman python\n",
        "list1 = [\"a\", \"b\", \"c\", \"d\"]\n",
        "list2 = ['bahasa arab', 'bahasa aceh', 2019, 2020]\n",
        "list3 = [1, 2, 3, 4, 5, 6, 7 ]\n",
        "\n",
        "\n",
        "# Mengakses Nilai list dalam Python\n",
        "print (\"list1[0]: \", list1[0])\n",
        "print (\"list2[1:3]: \", list2[1:3])\n",
        "print (\"list3[1:5]: \", list3[1:6])"
      ],
      "metadata": {
        "colab": {
          "base_uri": "https://localhost:8080/"
        },
        "id": "uee-2OlIs3et",
        "outputId": "a0289653-ef76-4e76-fec0-1d0ee480b978"
      },
      "execution_count": null,
      "outputs": [
        {
          "output_type": "stream",
          "name": "stdout",
          "text": [
            "list1[0]:  a\n",
            "list2[1:3]:  ['bahasa aceh', 2019]\n",
            "list3[1:5]:  [2, 3, 4, 5, 6]\n"
          ]
        }
      ]
    },
    {
      "cell_type": "markdown",
      "source": [
        "**Mengupdate Nilai pada List**"
      ],
      "metadata": {
        "id": "8uSEIDYTs6g8"
      }
    },
    {
      "cell_type": "code",
      "source": [
        "# Pembuatan list dan mengakses nilai list pada indeks 2\n",
        "list = ['bahasa arab', 'bahasa aceh', 2019, 2020]\n",
        "print (\"Nilai ada pada index 2 adalah: \", list[2])\n",
        "\n",
        "# Proses Update nilai list pada indeks 2\n",
        "list[2] = 2018\n",
        "print (\"Nilai baru ada pada index 2 adalah: \", list[2])"
      ],
      "metadata": {
        "colab": {
          "base_uri": "https://localhost:8080/"
        },
        "id": "P8ZyqFc3s9S4",
        "outputId": "7326c945-7d1c-4504-b1b2-9a1f60614936"
      },
      "execution_count": null,
      "outputs": [
        {
          "output_type": "stream",
          "name": "stdout",
          "text": [
            "Nilai ada pada index 2 adalah:  2019\n",
            "Nilai baru ada pada index 2 adalah:  2018\n"
          ]
        }
      ]
    },
    {
      "cell_type": "markdown",
      "source": [
        "**Menghapus Nilai pada List**"
      ],
      "metadata": {
        "id": "G-s0XUiCtH4D"
      }
    },
    {
      "cell_type": "code",
      "source": [
        "# Pembuatan list\n",
        "list = ['bahasa arab', 'bahasa aceh', 2019, 2020]\n",
        "print (\"Daftar list sebelum dihapus:\", list)\n",
        "\n",
        "# Proses menghapus nilai List pada indeks 1\n",
        "del list[1]\n",
        "print (\"Setelah dihapus nilai pada index 1 : \", list)\n"
      ],
      "metadata": {
        "colab": {
          "base_uri": "https://localhost:8080/"
        },
        "id": "H9xWvcv2tS4R",
        "outputId": "d748d365-01bd-4a14-b9c6-41886bdfdee7"
      },
      "execution_count": null,
      "outputs": [
        {
          "output_type": "stream",
          "name": "stdout",
          "text": [
            "Daftar list sebelum dihapus: ['bahasa arab', 'bahasa aceh', 2019, 2020]\n",
            "Setelah dihapus nilai pada index 1 :  ['bahasa arab', 2019, 2020]\n"
          ]
        }
      ]
    },
    {
      "cell_type": "markdown",
      "source": [
        "#sesi6"
      ],
      "metadata": {
        "id": "sQkppWYytZdc"
      }
    },
    {
      "cell_type": "markdown",
      "source": [
        "**Program Sederhana Membuat Tuple**"
      ],
      "metadata": {
        "id": "5Q_918jstnuA"
      }
    },
    {
      "cell_type": "code",
      "source": [
        "# Deklarasi variabel stup1, stup2 dan stup3\n",
        "stup1 = ('bahasa arab', 'bahasa aceh', 2019, 2020)\n",
        "stup2 = (1, 2, 3, 4, 5, 6, 7, 8)\n",
        "stup3 = \"e\", \"f\", \"g\", \"h\"\n",
        "\n",
        "# Mengakses nilai pada variabel ketiga tupel diatas\n",
        "print (\"stup1[1]: \", stup1[1])\n",
        "print (\"stup2[1:5]: \", stup2[1:5])"
      ],
      "metadata": {
        "colab": {
          "base_uri": "https://localhost:8080/"
        },
        "id": "3uZVPQzNts-k",
        "outputId": "27457490-0d1c-4497-8d72-f8c228cf7573"
      },
      "execution_count": null,
      "outputs": [
        {
          "output_type": "stream",
          "name": "stdout",
          "text": [
            "stup1[1]:  bahasa aceh\n",
            "stup2[1:5]:  (2, 3, 4, 5)\n"
          ]
        }
      ]
    },
    {
      "cell_type": "markdown",
      "source": [
        "**Mengakses Nilai Tuple**"
      ],
      "metadata": {
        "id": "zUyeqwuktxIJ"
      }
    },
    {
      "cell_type": "code",
      "source": [
        "# Deklarasi Variabel ach\n",
        "ach = (\"Mie Aceh\", 10000, 3.5, True, 'AyamPramugari', 88j)\n",
        "\n",
        "# Mengakses nilai tuple\n",
        "# Data pertama indeks 0\n",
        "print(\"ach[0]:\", ach[0])\n",
        "# Data kedua indeks 1\n",
        "print(\"ach[1]:\", ach[1])\n",
        "# Data ketiga indeks 2\n",
        "print(\"ach[2]:\", ach[2])\n",
        "# Data antara indeks 2 dan 5\n",
        "print(\"ach[2:5]:\", ach[2:5])\n",
        "# Data dari indeks satu sampai indeks 3\n",
        "print(\"ach[:3]:\", ach[:3])\n",
        "# Data dari indeks 3 sampai dengan indeks seterusnya\n",
        "print(\"ach[3:]:\", ach[3:])\n",
        "# Data keseluruhan\n",
        "print(\"ach[:]:\", ach[:])"
      ],
      "metadata": {
        "colab": {
          "base_uri": "https://localhost:8080/"
        },
        "id": "QiKlnayGt3sC",
        "outputId": "218d3ced-6b56-4f5f-ae79-af2c1ad32e79"
      },
      "execution_count": null,
      "outputs": [
        {
          "output_type": "stream",
          "name": "stdout",
          "text": [
            "ach[0]: Mie Aceh\n",
            "ach[1]: 10000\n",
            "ach[2]: 3.5\n",
            "ach[2:5]: (3.5, True, 'AyamPramugari')\n",
            "ach[:3]: ('Mie Aceh', 10000, 3.5)\n",
            "ach[3:]: (True, 'AyamPramugari', 88j)\n",
            "ach[:]: ('Mie Aceh', 10000, 3.5, True, 'AyamPramugari', 88j)\n"
          ]
        }
      ]
    },
    {
      "cell_type": "markdown",
      "source": [
        "**Membuat Tuple dari Kumpulan Tuple**"
      ],
      "metadata": {
        "id": "Pz8zr5FEt9EF"
      }
    },
    {
      "cell_type": "code",
      "source": [
        "# Contoh menambah variabel baru pada daftar tuple\n",
        "stup1 = (10, 5.78)\n",
        "stup2 = ('def', 'opq')\n",
        "\n",
        "# Jika ditambah baris berikut:\n",
        "# stup1[0] = 100;\n",
        "# tidak bisa dilakukan pada tuple python\n",
        "\n",
        "# Jadi, buatlah variabel tuple baru sebagai berikut\n",
        "stup3 = stup1 + stup2\n",
        "print (stup3)\n",
        "\n",
        "del stup3\n",
        "print(\"setelah dihapus:\")\n"
      ],
      "metadata": {
        "colab": {
          "base_uri": "https://localhost:8080/"
        },
        "id": "UylVP3mrt_yL",
        "outputId": "ade3accb-8309-4e9a-dd54-c5c90787f57f"
      },
      "execution_count": null,
      "outputs": [
        {
          "output_type": "stream",
          "name": "stdout",
          "text": [
            "(10, 5.78, 'def', 'opq')\n",
            "setelah dihapus:\n"
          ]
        }
      ]
    }
  ]
}